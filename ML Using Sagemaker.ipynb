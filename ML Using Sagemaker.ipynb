{
 "cells": [
  {
   "cell_type": "markdown",
   "id": "ff9e7c12",
   "metadata": {},
   "source": [
    "# Importing Libraries"
   ]
  },
  {
   "cell_type": "code",
   "execution_count": 1,
   "id": "bfec61c9",
   "metadata": {},
   "outputs": [
    {
     "name": "stdout",
     "output_type": "stream",
     "text": [
      "sagemaker.config INFO - Not applying SDK defaults from location: /etc/xdg/sagemaker/config.yaml\n",
      "sagemaker.config INFO - Not applying SDK defaults from location: /home/ec2-user/.config/sagemaker/config.yaml\n"
     ]
    }
   ],
   "source": [
    "import sagemaker\n",
    "import boto3\n",
    "from sagemaker.amazon.amazon_estimator import get_image_uri\n",
    "from sagemaker.session import s3_input,Session"
   ]
  },
  {
   "cell_type": "code",
   "execution_count": 2,
   "id": "34627a28",
   "metadata": {},
   "outputs": [
    {
     "name": "stdout",
     "output_type": "stream",
     "text": [
      "us-east-1\n"
     ]
    }
   ],
   "source": [
    "myregion=boto3.session.Session().region_name\n",
    "print(myregion)"
   ]
  },
  {
   "cell_type": "markdown",
   "id": "f43552fd",
   "metadata": {},
   "source": [
    "# Creating New Bucket"
   ]
  },
  {
   "cell_type": "code",
   "execution_count": 3,
   "id": "c4a1eec8",
   "metadata": {},
   "outputs": [
    {
     "name": "stdout",
     "output_type": "stream",
     "text": [
      "Existing buckets:\n"
     ]
    }
   ],
   "source": [
    "# Retrieve the list of existing buckets\n",
    "s3 = boto3.client('s3')\n",
    "response = s3.list_buckets()\n",
    "\n",
    "# Output the bucket names\n",
    "print('Existing buckets:')\n",
    "for bucket in response['Buckets']:\n",
    "    print(f'  {bucket[\"Name\"]}')"
   ]
  },
  {
   "cell_type": "code",
   "execution_count": 4,
   "id": "acbb4200",
   "metadata": {
    "scrolled": true
   },
   "outputs": [
    {
     "name": "stdout",
     "output_type": "stream",
     "text": [
      "Bucket Created Successfully\n"
     ]
    }
   ],
   "source": [
    "s3 = boto3.client('s3')\n",
    "try:\n",
    "    if myregion == 'us-east-1':\n",
    "        s3.create_bucket(Bucket='shubham-mg')\n",
    "        print('Bucket Created Successfully')\n",
    "except Exception as e:\n",
    "    print('S3 error:', e)\n"
   ]
  },
  {
   "cell_type": "code",
   "execution_count": 5,
   "id": "38874360",
   "metadata": {},
   "outputs": [
    {
     "name": "stdout",
     "output_type": "stream",
     "text": [
      "Existing buckets:\n",
      "  shubham-mg\n"
     ]
    }
   ],
   "source": [
    "s3 = boto3.client('s3')\n",
    "response = s3.list_buckets()\n",
    "\n",
    "# Output the bucket names\n",
    "print('Existing buckets:')\n",
    "for bucket in response['Buckets']:\n",
    "    print(f'  {bucket[\"Name\"]}')"
   ]
  },
  {
   "cell_type": "code",
   "execution_count": 6,
   "id": "2dffe09a",
   "metadata": {},
   "outputs": [
    {
     "name": "stdout",
     "output_type": "stream",
     "text": [
      "s3://shubham-mg/xgboost-as-a-built-in-algo/output\n"
     ]
    }
   ],
   "source": [
    "prefix='xgboost-as-a-built-in-algo'\n",
    "output_path='s3://{}/{}/output'.format('shubham-mg',prefix)\n",
    "print(output_path)"
   ]
  },
  {
   "cell_type": "markdown",
   "id": "bd9985fd",
   "metadata": {},
   "source": [
    "# Downloading and making dataframe of the data "
   ]
  },
  {
   "cell_type": "code",
   "execution_count": 7,
   "id": "14df9c01",
   "metadata": {},
   "outputs": [
    {
     "name": "stdout",
     "output_type": "stream",
     "text": [
      "Success: downloaded bank_clean.csv.\n",
      "Success: Data loaded into dataframe.\n"
     ]
    }
   ],
   "source": [
    "import pandas as pd\n",
    "import urllib\n",
    "try:\n",
    "    urllib.request.urlretrieve (\"https://d1.awsstatic.com/tmt/build-train-deploy-machine-learning-model-sagemaker/bank_clean.27f01fbbdf43271788427f3682996ae29ceca05d.csv\", \"bank_clean.csv\")\n",
    "    print('Success: downloaded bank_clean.csv.')\n",
    "except Exception as e:\n",
    "    print('Data load error: ',e)\n",
    "\n",
    "try:\n",
    "    model_data = pd.read_csv('./bank_clean.csv',index_col=0)\n",
    "    print('Success: Data loaded into dataframe.')\n",
    "except Exception as e:\n",
    "    print('Data load error: ',e)"
   ]
  },
  {
   "cell_type": "markdown",
   "id": "11829c0e",
   "metadata": {},
   "source": [
    "# Train-test Split and saving in bucket"
   ]
  },
  {
   "cell_type": "code",
   "execution_count": 8,
   "id": "83431a57",
   "metadata": {},
   "outputs": [
    {
     "name": "stdout",
     "output_type": "stream",
     "text": [
      "(28831, 61) (12357, 61)\n"
     ]
    },
    {
     "name": "stderr",
     "output_type": "stream",
     "text": [
      "/home/ec2-user/anaconda3/envs/python3/lib/python3.10/site-packages/numpy/core/fromnumeric.py:57: FutureWarning: 'DataFrame.swapaxes' is deprecated and will be removed in a future version. Please use 'DataFrame.transpose' instead.\n",
      "  return bound(*args, **kwds)\n"
     ]
    }
   ],
   "source": [
    "import numpy as np \n",
    "train_data,test_data=np.split(model_data.sample(frac=1,random_state=42),\n",
    "                             [int(0.7*len(model_data))])\n",
    "print(train_data.shape,test_data.shape)"
   ]
  },
  {
   "cell_type": "code",
   "execution_count": 9,
   "id": "238b6fde",
   "metadata": {},
   "outputs": [],
   "source": [
    "from sagemaker.inputs import TrainingInput\n",
    "import pandas as pd\n",
    "import boto3\n",
    "import os\n",
    "\n",
    "# Train Data preparation \n",
    "train_data = pd.concat([train_data['y_yes'],\n",
    "                       train_data.drop(['y_no', 'y_yes'], axis=1)],\n",
    "                      axis=1)\n",
    "train_data.to_csv('train.csv', index=False, header=False)\n",
    "\n",
    "# S3 upload\n",
    "boto3.Session().resource('s3').Bucket('shubham-mg').Object(\n",
    "    os.path.join(prefix, 'train/train.csv')).upload_file('train.csv')\n",
    "\n",
    "# Create TrainingInput\n",
    "train_input = TrainingInput(\n",
    "    s3_data='s3://shubham-mg/{}/train'.format(prefix),\n",
    "    content_type='csv'\n",
    ")\n"
   ]
  },
  {
   "cell_type": "code",
   "execution_count": 10,
   "id": "e6c27433",
   "metadata": {},
   "outputs": [],
   "source": [
    "# Train Data preparation \n",
    "test_data = pd.concat([test_data['y_yes'],\n",
    "                       test_data.drop(['y_no', 'y_yes'], axis=1)],\n",
    "                      axis=1)\n",
    "test_data.to_csv('test.csv', index=False, header=False)\n",
    "\n",
    "# S3 upload\n",
    "boto3.Session().resource('s3').Bucket('shubham-mg').Object(\n",
    "    os.path.join(prefix, 'test/test.csv')).upload_file('test.csv')\n",
    "\n",
    "# Create TrainingInput\n",
    "test_input = TrainingInput(\n",
    "    s3_data='s3://shubham-mg/{}/test'.format(prefix),\n",
    "    content_type='csv'\n",
    ")\n"
   ]
  },
  {
   "cell_type": "markdown",
   "id": "f6155f56",
   "metadata": {},
   "source": [
    "# Building Model XGBoost"
   ]
  },
  {
   "cell_type": "code",
   "execution_count": 11,
   "id": "36c15ef9",
   "metadata": {},
   "outputs": [],
   "source": [
    "from sagemaker import image_uris\n",
    "\n",
    "\n",
    "# Retrieve the XGBoost container image URI\n",
    "container = image_uris.retrieve(\"xgboost\", myregion, \"1.0-1\")\n"
   ]
  },
  {
   "cell_type": "code",
   "execution_count": 12,
   "id": "5383dcef",
   "metadata": {},
   "outputs": [],
   "source": [
    "# initialize hyperparameters\n",
    "hyperparameters = {\n",
    "        \"max_depth\":\"5\",\n",
    "        \"eta\":\"0.2\",\n",
    "        \"gamma\":\"4\",\n",
    "        \"min_child_weight\":\"6\",\n",
    "        \"subsample\":\"0.7\",\n",
    "        \"objective\":\"binary:logistic\",\n",
    "        \"num_round\":50\n",
    "        }"
   ]
  },
  {
   "cell_type": "code",
   "execution_count": 17,
   "id": "2fb1638d",
   "metadata": {
    "scrolled": true
   },
   "outputs": [],
   "source": [
    "from sagemaker.estimator import Estimator\n",
    "estimator = Estimator(\n",
    "    image_uri=container,  # Specify XGBoost version\n",
    "    role=sagemaker.get_execution_role(),\n",
    "    instance_count=1,\n",
    "    instance_type='ml.m5.2xlarge',\n",
    "    volume_size=5,\n",
    "    max_run=300,\n",
    "    max_wait=600,\n",
    "    use_spot_instances=True,\n",
    "    hyperparameters=hyperparameters,\n",
    "    output_path=output_path,\n",
    ")\n"
   ]
  },
  {
   "cell_type": "code",
   "execution_count": 18,
   "id": "68425727",
   "metadata": {},
   "outputs": [
    {
     "name": "stderr",
     "output_type": "stream",
     "text": [
      "INFO:sagemaker:Creating training-job with name: sagemaker-xgboost-2024-08-17-14-04-22-440\n"
     ]
    },
    {
     "name": "stdout",
     "output_type": "stream",
     "text": [
      "2024-08-17 14:04:22 Starting - Starting the training job...\n",
      "2024-08-17 14:04:48 Starting - Preparing the instances for training...\n",
      "2024-08-17 14:05:09 Downloading - Downloading input data...\n",
      "2024-08-17 14:05:27 Downloading - Downloading the training image...\n",
      "2024-08-17 14:06:23 Training - Training image download completed. Training in progress.\n",
      "2024-08-17 14:06:23 Uploading - Uploading generated training model.\u001b[34m[2024-08-17 14:06:17.152 ip-10-0-181-45.ec2.internal:7 INFO utils.py:27] RULE_JOB_STOP_SIGNAL_FILENAME: None\u001b[0m\n",
      "\u001b[34mINFO:sagemaker-containers:Imported framework sagemaker_xgboost_container.training\u001b[0m\n",
      "\u001b[34mINFO:sagemaker-containers:Failed to parse hyperparameter objective value binary:logistic to Json.\u001b[0m\n",
      "\u001b[34mReturning the value itself\u001b[0m\n",
      "\u001b[34mINFO:sagemaker-containers:No GPUs detected (normal if no gpus installed)\u001b[0m\n",
      "\u001b[34mINFO:sagemaker_xgboost_container.training:Running XGBoost Sagemaker in algorithm mode\u001b[0m\n",
      "\u001b[34mINFO:root:Determined delimiter of CSV input is ','\u001b[0m\n",
      "\u001b[34mINFO:root:Determined delimiter of CSV input is ','\u001b[0m\n",
      "\u001b[34mINFO:root:Determined delimiter of CSV input is ','\u001b[0m\n",
      "\u001b[34mINFO:root:Determined delimiter of CSV input is ','\u001b[0m\n",
      "\u001b[34mINFO:root:Single node training.\u001b[0m\n",
      "\u001b[34m[14:06:17] 28831x59 matrix with 1701029 entries loaded from /opt/ml/input/data/train?format=csv&label_column=0&delimiter=,\u001b[0m\n",
      "\u001b[34m[14:06:17] 12357x59 matrix with 729063 entries loaded from /opt/ml/input/data/validation?format=csv&label_column=0&delimiter=,\u001b[0m\n",
      "\u001b[34m[2024-08-17 14:06:17.316 ip-10-0-181-45.ec2.internal:7 INFO json_config.py:91] Creating hook from json_config at /opt/ml/input/config/debughookconfig.json.\u001b[0m\n",
      "\u001b[34m[2024-08-17 14:06:17.317 ip-10-0-181-45.ec2.internal:7 INFO hook.py:201] tensorboard_dir has not been set for the hook. SMDebug will not be exporting tensorboard summaries.\u001b[0m\n",
      "\u001b[34m[2024-08-17 14:06:17.317 ip-10-0-181-45.ec2.internal:7 INFO profiler_config_parser.py:102] User has disabled profiler.\u001b[0m\n",
      "\u001b[34m[2024-08-17 14:06:17.317 ip-10-0-181-45.ec2.internal:7 INFO hook.py:255] Saving to /opt/ml/output/tensors\u001b[0m\n",
      "\u001b[34m[2024-08-17 14:06:17.318 ip-10-0-181-45.ec2.internal:7 INFO state_store.py:77] The checkpoint config file /opt/ml/input/config/checkpointconfig.json does not exist.\u001b[0m\n",
      "\u001b[34mINFO:root:Debug hook created from config\u001b[0m\n",
      "\u001b[34mINFO:root:Train matrix has 28831 rows\u001b[0m\n",
      "\u001b[34mINFO:root:Validation matrix has 12357 rows\u001b[0m\n",
      "\u001b[34m[14:06:17] WARNING: /workspace/src/learner.cc:328: \u001b[0m\n",
      "\u001b[34mParameters: { num_round } might not be used.\n",
      "  This may not be accurate due to some parameters are only used in language bindings but\n",
      "  passed down to XGBoost core.  Or some parameters are not used but slip through this\n",
      "  verification. Please open an issue if you find above cases.\u001b[0m\n",
      "\u001b[34m[0]#011train-error:0.10170#011validation-error:0.10512\u001b[0m\n",
      "\u001b[34m[2024-08-17 14:06:17.360 ip-10-0-181-45.ec2.internal:7 INFO hook.py:423] Monitoring the collections: metrics\u001b[0m\n",
      "\u001b[34m[2024-08-17 14:06:17.361 ip-10-0-181-45.ec2.internal:7 INFO hook.py:486] Hook is writing from the hook with pid: 7\u001b[0m\n",
      "\u001b[34m[1]#011train-error:0.10093#011validation-error:0.10375\u001b[0m\n",
      "\u001b[34m[2]#011train-error:0.10014#011validation-error:0.10269\u001b[0m\n",
      "\u001b[34m[3]#011train-error:0.09972#011validation-error:0.10286\u001b[0m\n",
      "\u001b[34m[4]#011train-error:0.10010#011validation-error:0.10237\u001b[0m\n",
      "\u001b[34m[5]#011train-error:0.10055#011validation-error:0.10108\u001b[0m\n",
      "\u001b[34m[6]#011train-error:0.10052#011validation-error:0.10091\u001b[0m\n",
      "\u001b[34m[7]#011train-error:0.10038#011validation-error:0.10148\u001b[0m\n",
      "\u001b[34m[8]#011train-error:0.10010#011validation-error:0.10124\u001b[0m\n",
      "\u001b[34m[9]#011train-error:0.10017#011validation-error:0.10132\u001b[0m\n",
      "\u001b[34m[10]#011train-error:0.10048#011validation-error:0.10156\u001b[0m\n",
      "\u001b[34m[11]#011train-error:0.10000#011validation-error:0.10156\u001b[0m\n",
      "\u001b[34m[12]#011train-error:0.10010#011validation-error:0.10189\u001b[0m\n",
      "\u001b[34m[13]#011train-error:0.10055#011validation-error:0.10205\u001b[0m\n",
      "\u001b[34m[14]#011train-error:0.10034#011validation-error:0.10189\u001b[0m\n",
      "\u001b[34m[15]#011train-error:0.09996#011validation-error:0.10205\u001b[0m\n",
      "\u001b[34m[16]#011train-error:0.09986#011validation-error:0.10229\u001b[0m\n",
      "\u001b[34m[17]#011train-error:0.09968#011validation-error:0.10245\u001b[0m\n",
      "\u001b[34m[18]#011train-error:0.09965#011validation-error:0.10229\u001b[0m\n",
      "\u001b[34m[19]#011train-error:0.09920#011validation-error:0.10221\u001b[0m\n",
      "\u001b[34m[20]#011train-error:0.09899#011validation-error:0.10189\u001b[0m\n",
      "\u001b[34m[21]#011train-error:0.09899#011validation-error:0.10189\u001b[0m\n",
      "\u001b[34m[22]#011train-error:0.09913#011validation-error:0.10181\u001b[0m\n",
      "\u001b[34m[23]#011train-error:0.09896#011validation-error:0.10213\u001b[0m\n",
      "\u001b[34m[24]#011train-error:0.09882#011validation-error:0.10269\u001b[0m\n",
      "\u001b[34m[25]#011train-error:0.09889#011validation-error:0.10221\u001b[0m\n",
      "\u001b[34m[26]#011train-error:0.09871#011validation-error:0.10261\u001b[0m\n",
      "\u001b[34m[27]#011train-error:0.09868#011validation-error:0.10245\u001b[0m\n",
      "\u001b[34m[28]#011train-error:0.09899#011validation-error:0.10302\u001b[0m\n",
      "\u001b[34m[29]#011train-error:0.09868#011validation-error:0.10261\u001b[0m\n",
      "\u001b[34m[30]#011train-error:0.09847#011validation-error:0.10229\u001b[0m\n",
      "\u001b[34m[31]#011train-error:0.09833#011validation-error:0.10197\u001b[0m\n",
      "\u001b[34m[32]#011train-error:0.09830#011validation-error:0.10189\u001b[0m\n",
      "\u001b[34m[33]#011train-error:0.09809#011validation-error:0.10197\u001b[0m\n",
      "\u001b[34m[34]#011train-error:0.09819#011validation-error:0.10148\u001b[0m\n",
      "\u001b[34m[35]#011train-error:0.09830#011validation-error:0.10164\u001b[0m\n",
      "\u001b[34m[36]#011train-error:0.09837#011validation-error:0.10172\u001b[0m\n",
      "\u001b[34m[37]#011train-error:0.09844#011validation-error:0.10189\u001b[0m\n",
      "\u001b[34m[38]#011train-error:0.09847#011validation-error:0.10197\u001b[0m\n",
      "\u001b[34m[39]#011train-error:0.09882#011validation-error:0.10148\u001b[0m\n",
      "\u001b[34m[40]#011train-error:0.09844#011validation-error:0.10156\u001b[0m\n",
      "\u001b[34m[41]#011train-error:0.09830#011validation-error:0.10164\u001b[0m\n",
      "\u001b[34m[42]#011train-error:0.09816#011validation-error:0.10156\u001b[0m\n",
      "\u001b[34m[43]#011train-error:0.09809#011validation-error:0.10164\u001b[0m\n",
      "\u001b[34m[44]#011train-error:0.09812#011validation-error:0.10132\u001b[0m\n",
      "\u001b[34m[45]#011train-error:0.09805#011validation-error:0.10164\u001b[0m\n",
      "\u001b[34m[46]#011train-error:0.09785#011validation-error:0.10197\u001b[0m\n",
      "\u001b[34m[47]#011train-error:0.09778#011validation-error:0.10172\u001b[0m\n",
      "\u001b[34m[48]#011train-error:0.09795#011validation-error:0.10124\u001b[0m\n",
      "\u001b[34m[49]#011train-error:0.09778#011validation-error:0.10156\u001b[0m\n",
      "\n",
      "2024-08-17 14:06:36 Completed - Training job completed\n",
      "Training seconds: 87\n",
      "Billable seconds: 37\n",
      "Managed Spot Training savings: 57.5%\n"
     ]
    }
   ],
   "source": [
    "estimator.fit({'train': train_input,'validation': test_input})"
   ]
  },
  {
   "cell_type": "markdown",
   "id": "8a9e41a6",
   "metadata": {},
   "source": [
    "# Deploying the model "
   ]
  },
  {
   "cell_type": "code",
   "execution_count": 19,
   "id": "194de875",
   "metadata": {
    "scrolled": true
   },
   "outputs": [
    {
     "name": "stderr",
     "output_type": "stream",
     "text": [
      "INFO:sagemaker:Creating model with name: sagemaker-xgboost-2024-08-17-14-11-25-609\n",
      "INFO:sagemaker:Creating endpoint-config with name sagemaker-xgboost-2024-08-17-14-11-25-609\n",
      "INFO:sagemaker:Creating endpoint with name sagemaker-xgboost-2024-08-17-14-11-25-609\n"
     ]
    },
    {
     "name": "stdout",
     "output_type": "stream",
     "text": [
      "------!"
     ]
    }
   ],
   "source": [
    "xgb_predictor = estimator.deploy(initial_instance_count=1,instance_type='ml.m4.xlarge')"
   ]
  },
  {
   "cell_type": "markdown",
   "id": "8deee842",
   "metadata": {},
   "source": [
    "# Loading the testing Data "
   ]
  },
  {
   "cell_type": "code",
   "execution_count": 30,
   "id": "dac87378",
   "metadata": {
    "scrolled": true
   },
   "outputs": [
    {
     "name": "stdout",
     "output_type": "stream",
     "text": [
      "(12357,)\n"
     ]
    }
   ],
   "source": [
    "from sagemaker.predictor import Predictor\n",
    "from sagemaker.base_serializers import CSVSerializer\n",
    "import numpy as np\n",
    "\n",
    "test_data_array = test_data.drop(['y_yes'], axis=1).values  # Load the data into an array\n",
    "xgb_predictor.content_type = 'csv'\n",
    "xgb_predictor.serializer = CSVSerializer(content_type='csv') # set the serializer type\n",
    "# No need to set content_type or serializer explicitly\n",
    "predictions = xgb_predictor.predict(test_data_array).decode('utf-8')  # Predict!\n",
    "\n",
    "predictions_array = np.fromstring(predictions[1:], sep=',') # and turn the prediction into an array\n",
    "print(predictions_array.shape)"
   ]
  },
  {
   "cell_type": "markdown",
   "id": "3b03a938",
   "metadata": {},
   "source": [
    "# Confusion Matrix"
   ]
  },
  {
   "cell_type": "code",
   "execution_count": 31,
   "id": "473b6497",
   "metadata": {},
   "outputs": [
    {
     "name": "stdout",
     "output_type": "stream",
     "text": [
      "\n",
      "Overall Classification Rate: 89.8%\n",
      "\n",
      "Predicted      No Purchase    Purchase\n",
      "Observed\n",
      "No Purchase    91% (10809)    34% (152)\n",
      "Purchase        9% (1103)     66% (293) \n",
      "\n"
     ]
    }
   ],
   "source": [
    "cm = pd.crosstab(index=test_data['y_yes'], columns=np.round(predictions_array), rownames=['Observed'], colnames=['Predicted'])\n",
    "tn = cm.iloc[0,0]; fn = cm.iloc[1,0]; tp = cm.iloc[1,1]; fp = cm.iloc[0,1]; p = (tp+tn)/(tp+tn+fp+fn)*100\n",
    "print(\"\\n{0:<20}{1:<4.1f}%\\n\".format(\"Overall Classification Rate: \", p))\n",
    "print(\"{0:<15}{1:<15}{2:>8}\".format(\"Predicted\", \"No Purchase\", \"Purchase\"))\n",
    "print(\"Observed\")\n",
    "print(\"{0:<15}{1:<2.0f}% ({2:<}){3:>6.0f}% ({4:<})\".format(\"No Purchase\", tn/(tn+fn)*100,tn, fp/(tp+fp)*100, fp))\n",
    "print(\"{0:<16}{1:<1.0f}% ({2:<}){3:>7.0f}% ({4:<}) \\n\".format(\"Purchase\", fn/(tn+fn)*100,fn, tp/(tp+fp)*100, tp))\n",
    "     "
   ]
  },
  {
   "cell_type": "markdown",
   "id": "c1120f1a",
   "metadata": {},
   "source": [
    "# Deleting ALL the data in bucket and deployment endpoint"
   ]
  },
  {
   "cell_type": "code",
   "execution_count": 34,
   "id": "47e46866",
   "metadata": {},
   "outputs": [
    {
     "data": {
      "text/plain": [
       "[{'ResponseMetadata': {'RequestId': 'A64027HQAEA5W3WM',\n",
       "   'HostId': '5jeNz0IxsehROZVMAu6Sw649dFVY3UGOKTAZl8juYzdwVuFZhZBCcS8ttufCbRJPmvlH9k0evHizw5N6SFJA/atZ8mEBs6sdnk3PaPYdX2c=',\n",
       "   'HTTPStatusCode': 200,\n",
       "   'HTTPHeaders': {'x-amz-id-2': '5jeNz0IxsehROZVMAu6Sw649dFVY3UGOKTAZl8juYzdwVuFZhZBCcS8ttufCbRJPmvlH9k0evHizw5N6SFJA/atZ8mEBs6sdnk3PaPYdX2c=',\n",
       "    'x-amz-request-id': 'A64027HQAEA5W3WM',\n",
       "    'date': 'Sat, 17 Aug 2024 14:40:02 GMT',\n",
       "    'content-type': 'application/xml',\n",
       "    'transfer-encoding': 'chunked',\n",
       "    'server': 'AmazonS3',\n",
       "    'connection': 'close'},\n",
       "   'RetryAttempts': 0},\n",
       "  'Deleted': [{'Key': 'xgboost-as-a-built-in-algo/train/train.csv'},\n",
       "   {'Key': 'xgboost-as-a-built-in-algo/output/sagemaker-xgboost-2024-08-17-14-04-22-440/profiler-output/system/incremental/2024081714/1723903560.algo-1.json'},\n",
       "   {'Key': 'xgboost-as-a-built-in-algo/output/sagemaker-xgboost-2024-08-17-14-04-22-440/debug-output/index/000000000/000000000020_worker_0.json'},\n",
       "   {'Key': 'xgboost-as-a-built-in-algo/output/sagemaker-xgboost-2024-08-17-14-04-22-440/profiler-output/system/training_job_end.ts'},\n",
       "   {'Key': 'xgboost-as-a-built-in-algo/output/sagemaker-xgboost-2024-08-17-14-04-22-440/debug-output/events/000000000030/000000000030_worker_0.tfevents'},\n",
       "   {'Key': 'xgboost-as-a-built-in-algo/output/sagemaker-xgboost-2024-08-17-14-04-22-440/debug-output/events/000000000020/000000000020_worker_0.tfevents'},\n",
       "   {'Key': 'xgboost-as-a-built-in-algo/output/sagemaker-xgboost-2024-08-17-14-04-22-440/debug-output/claim.smd'},\n",
       "   {'Key': 'xgboost-as-a-built-in-algo/output/sagemaker-xgboost-2024-08-17-14-04-22-440/debug-output/events/000000000040/000000000040_worker_0.tfevents'},\n",
       "   {'Key': 'xgboost-as-a-built-in-algo/output/sagemaker-xgboost-2024-08-17-14-04-22-440/output/model.tar.gz'},\n",
       "   {'Key': 'xgboost-as-a-built-in-algo/output/sagemaker-xgboost-2024-08-17-14-04-22-440/profiler-output/framework/training_job_end.ts'},\n",
       "   {'Key': 'xgboost-as-a-built-in-algo/output/sagemaker-xgboost-2024-08-17-14-04-22-440/debug-output/index/000000000/000000000040_worker_0.json'},\n",
       "   {'Key': 'xgboost-as-a-built-in-algo/output/sagemaker-xgboost-2024-08-17-14-04-22-440/debug-output/training_job_end.ts'},\n",
       "   {'Key': 'xgboost-as-a-built-in-algo/output/sagemaker-xgboost-2024-08-17-14-04-22-440/debug-output/events/000000000010/000000000010_worker_0.tfevents'},\n",
       "   {'Key': 'xgboost-as-a-built-in-algo/test/test.csv'},\n",
       "   {'Key': 'xgboost-as-a-built-in-algo/output/sagemaker-xgboost-2024-08-17-14-04-22-440/profiler-output/system/incremental/2024081714/1723903500.algo-1.json'},\n",
       "   {'Key': 'xgboost-as-a-built-in-algo/output/sagemaker-xgboost-2024-08-17-14-04-22-440/debug-output/index/000000000/000000000010_worker_0.json'},\n",
       "   {'Key': 'xgboost-as-a-built-in-algo/output/sagemaker-xgboost-2024-08-17-14-04-22-440/debug-output/collections/000000000/worker_0_collections.json'},\n",
       "   {'Key': 'xgboost-as-a-built-in-algo/output/sagemaker-xgboost-2024-08-17-14-04-22-440/debug-output/events/000000000000/000000000000_worker_0.tfevents'},\n",
       "   {'Key': 'xgboost-as-a-built-in-algo/output/sagemaker-xgboost-2024-08-17-14-04-22-440/debug-output/index/000000000/000000000030_worker_0.json'},\n",
       "   {'Key': 'xgboost-as-a-built-in-algo/output/sagemaker-xgboost-2024-08-17-14-04-22-440/debug-output/index/000000000/000000000000_worker_0.json'}]}]"
      ]
     },
     "execution_count": 34,
     "metadata": {},
     "output_type": "execute_result"
    }
   ],
   "source": [
    "sagemaker.Session().delete_endpoint(xgb_predictor.endpoint)\n",
    "bucket_to_delete = boto3.resource('s3').Bucket('shubham-mg')\n",
    "bucket_to_delete.objects.all().delete()"
   ]
  },
  {
   "cell_type": "code",
   "execution_count": null,
   "id": "6f04c501",
   "metadata": {},
   "outputs": [],
   "source": []
  },
  {
   "cell_type": "code",
   "execution_count": null,
   "id": "1cd62c17",
   "metadata": {},
   "outputs": [],
   "source": []
  }
 ],
 "metadata": {
  "kernelspec": {
   "display_name": "conda_python3",
   "language": "python",
   "name": "conda_python3"
  },
  "language_info": {
   "codemirror_mode": {
    "name": "ipython",
    "version": 3
   },
   "file_extension": ".py",
   "mimetype": "text/x-python",
   "name": "python",
   "nbconvert_exporter": "python",
   "pygments_lexer": "ipython3",
   "version": "3.10.14"
  }
 },
 "nbformat": 4,
 "nbformat_minor": 5
}
